{
 "cells": [
  {
   "cell_type": "code",
   "execution_count": 343,
   "metadata": {},
   "outputs": [],
   "source": [
    "import random\n",
    "\n",
    "def BSC(p_err, x):\n",
    "    if p_err < 0 or p_err >= 1:\n",
    "        print(\"p_err must be in [0,1[\")\n",
    "    r = random.random()\n",
    "    if r < p_err:\n",
    "        return 1-x\n",
    "    return x\n",
    "\n",
    "def e(i, n):\n",
    "    v = vector(GF(2), [0]*n)\n",
    "    v[i] = 1\n",
    "    return v\n",
    "\n",
    "def decode_bit_flipping(H, Y, iter_max):\n",
    "    n = H.ncols()\n",
    "    k = n - H.nrows()\n",
    "    min_weight_s = (H*Y).hamming_weight()\n",
    "    t = 0\n",
    "    while (H*Y).hamming_weight() != 0 and t < iter_max:\n",
    "        s_weight = (H*Y).hamming_weight()\n",
    "        \n",
    "        #print(\"Poids syndrôme : \" ,s_weight)\n",
    "        changes = [0 for i in range(n)]\n",
    "        for i in range(n):\n",
    "            w = (H*(Y + e(i, n))).hamming_weight()\n",
    "            #print(\"w:\",w)\n",
    "            if  w <= min_weight_s and w < s_weight:\n",
    "                if w < min_weight_s:\n",
    "                    for j in range(n):\n",
    "                        changes[j] = 0\n",
    "                    min_weight_s = w\n",
    "                changes[i] = 1\n",
    "        changes = vector(GF(2), changes)\n",
    "        #print(changes)\n",
    "        Y = Y + changes\n",
    "        t += 1\n",
    "    print(\"Nb iter : \", t)\n",
    "    return Y\n",
    " "
   ]
  },
  {
   "cell_type": "code",
   "execution_count": 410,
   "metadata": {},
   "outputs": [
    {
     "name": "stdout",
     "output_type": "stream",
     "text": [
      "[1 0 1 0 0 1 0 0 0 1 1 0 0 0 0 0 0 0 0 0]\n",
      "[0 1 0 1 0 1 1 0 0 0 0 1 0 0 0 0 0 0 0 0]\n",
      "[0 0 1 0 1 0 1 1 0 0 0 0 1 0 0 0 0 0 0 0]\n",
      "[1 0 0 1 0 0 0 1 1 0 0 0 0 1 0 0 0 0 0 0]\n",
      "[0 1 0 0 1 0 0 0 1 1 0 0 0 0 1 0 0 0 0 0]\n",
      "[1 1 0 0 0 0 1 0 1 0 0 0 0 0 0 1 0 0 0 0]\n",
      "[0 1 1 0 0 0 0 1 0 1 0 0 0 0 0 0 1 0 0 0]\n",
      "[0 0 1 1 0 1 0 0 1 0 0 0 0 0 0 0 0 1 0 0]\n",
      "[0 0 0 1 1 0 1 0 0 1 0 0 0 0 0 0 0 0 1 0]\n",
      "[1 0 0 0 1 1 0 1 0 0 0 0 0 0 0 0 0 0 0 1]\n"
     ]
    }
   ],
   "source": [
    "#Extension d'une matrice de parité régulière de LDPC\n",
    "\n",
    "h = [[1, 0, 1, 0, 0, 1, 0, 0, 0, 1, 1, 0, 0, 0, 0, 0, 0, 0, 0, 0],\n",
    "[0, 1, 0, 1, 0, 1, 1, 0, 0, 0, 0, 1, 0, 0, 0, 0, 0, 0, 0, 0],\n",
    "[0, 0, 1, 0, 1, 0, 1, 1, 0, 0, 0, 0, 1, 0, 0, 0, 0, 0, 0, 0],\n",
    "[1, 0, 0, 1, 0, 0, 0, 1, 1, 0, 0, 0, 0, 1, 0, 0, 0, 0, 0, 0],\n",
    "[0, 1, 0, 0, 1, 0, 0, 0, 1, 1, 0, 0, 0, 0, 1, 0, 0, 0, 0, 0],\n",
    "[1, 1, 0, 0, 0, 0, 1, 0, 1, 0, 0, 0, 0, 0, 0, 1, 0, 0, 0, 0],\n",
    "[0, 1, 1, 0, 0, 0, 0, 1, 0, 1, 0, 0, 0, 0, 0, 0, 1, 0, 0, 0],\n",
    "[0, 0, 1, 1, 0, 1, 0, 0, 1, 0, 0, 0, 0, 0, 0, 0, 0, 1, 0, 0],\n",
    "[0, 0, 0, 1, 1, 0, 1, 0, 0, 1, 0, 0, 0, 0, 0, 0, 0, 0, 1, 0],\n",
    "[1, 0, 0, 0, 1, 1, 0, 1, 0, 0, 0, 0, 0, 0, 0, 0, 0, 0, 0, 1]]\n",
    "h = Matrix(GF(2), h)\n",
    "print(h)\n",
    "ncols = h.ncols()\n",
    "nrows = h.nrows()\n",
    "z = 3\n",
    "I = Matrix(GF(2),z)\n",
    "O = Matrix(GF(2), z, sparse = True)\n",
    "for i in range(z):\n",
    "    I[i, i] = 1\n",
    "H = []\n",
    "\n",
    "for i in range(nrows):\n",
    "    tmp = []\n",
    "    for j in range(ncols):\n",
    "        if h[i,j] == 0:\n",
    "            tmp.append(O)\n",
    "        else :\n",
    "            I2 = I.columns()\n",
    "            random.shuffle(I2)\n",
    "            I = Matrix(GF(2), I2)\n",
    "            tmp.append(I)\n",
    "    tmp = block_matrix(GF(2),1,ncols,tmp)\n",
    "    if i == 0:\n",
    "        H = tmp\n",
    "    else:\n",
    "        H = block_matrix(GF(2), 2,1, [H,tmp], subdivide = False)\n",
    "    \n",
    "#print(H)\n"
   ]
  },
  {
   "cell_type": "code",
   "execution_count": 411,
   "metadata": {},
   "outputs": [
    {
     "name": "stdout",
     "output_type": "stream",
     "text": [
      "n :  60 \n",
      "k :  30\n"
     ]
    }
   ],
   "source": [
    "nH = ncols * z\n",
    "kH = nH - nrows * z\n",
    "print(\"n : \", nH,\"\\nk : \", kH)"
   ]
  },
  {
   "cell_type": "code",
   "execution_count": 452,
   "metadata": {},
   "outputs": [
    {
     "name": "stdout",
     "output_type": "stream",
     "text": [
      "y = \n",
      "(0, 1, 0, 1, 0, 0, 0, 1, 0, 1, 1, 0, 1, 1, 0, 1, 0, 1, 0, 0, 1, 0, 1, 0, 1, 0, 1, 1, 1, 1, 1, 0, 0, 1, 1, 0, 1, 1, 1, 1, 0, 1, 1, 0, 1, 1, 0, 0, 1, 0, 1, 0, 1, 0, 1, 1, 0, 0, 1, 1)\n",
      "Passage dans le canal binaire symétrique\n",
      "y' en sortie de canal:\n",
      "(0, 1, 0, 1, 0, 0, 0, 0, 0, 1, 1, 0, 1, 1, 0, 1, 0, 0, 0, 0, 1, 0, 1, 0, 1, 0, 1, 1, 1, 1, 1, 0, 0, 1, 1, 0, 1, 1, 1, 1, 0, 1, 1, 0, 1, 1, 0, 1, 1, 0, 1, 0, 1, 0, 1, 1, 0, 0, 1, 1)\n",
      "Nb iter :  2\n",
      "c in C H * c =  (0, 0, 0, 0, 0, 0, 0, 0, 0, 0, 0, 0, 0, 0, 0, 0, 0, 0, 0, 0, 0, 0, 0, 0, 0, 0, 0, 0, 0, 0)\n",
      "well decoded :  True\n"
     ]
    }
   ],
   "source": [
    "C = H.right_kernel()\n",
    "y = C.random_element()\n",
    "print(\"y = \")\n",
    "print(y)\n",
    "print(\"Passage dans le canal binaire symétrique\")\n",
    "y2 = vector(GF(2), nH)\n",
    "for i in range(nH):\n",
    "    y2[i] = BSC(0.05,y[i])\n",
    "print(\"y' en sortie de canal:\")\n",
    "print(y2)\n",
    "#print(\"s = H*y = \", H*y2)\n",
    "c = decode_bit_flipping(H, y2, 100)\n",
    "#print(\"y et c \")\n",
    "#print(y)\n",
    "#print(c)\n",
    "print(\"c in C H * c = \", H*c)\n",
    "print(\"well decoded : \", c == y)"
   ]
  },
  {
   "cell_type": "code",
   "execution_count": null,
   "metadata": {},
   "outputs": [],
   "source": []
  },
  {
   "cell_type": "code",
   "execution_count": null,
   "metadata": {},
   "outputs": [],
   "source": []
  }
 ],
 "metadata": {
  "kernelspec": {
   "display_name": "SageMath 9.0",
   "language": "sage",
   "name": "sagemath"
  },
  "language_info": {
   "codemirror_mode": {
    "name": "ipython",
    "version": 3
   },
   "file_extension": ".py",
   "mimetype": "text/x-python",
   "name": "python",
   "nbconvert_exporter": "python",
   "pygments_lexer": "ipython3",
   "version": "3.8.10"
  }
 },
 "nbformat": 4,
 "nbformat_minor": 4
}
