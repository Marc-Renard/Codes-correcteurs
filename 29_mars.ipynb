{
 "cells": [
  {
   "cell_type": "markdown",
   "id": "465d7027",
   "metadata": {},
   "source": [
    "# Exercice 1"
   ]
  },
  {
   "cell_type": "code",
   "execution_count": 154,
   "id": "18be70f4",
   "metadata": {},
   "outputs": [
    {
     "name": "stdout",
     "output_type": "stream",
     "text": [
      "[1 1 1 1 0 0 0 0 0 0 0 0 0 0 0 0]\n",
      "[0 0 0 0 1 1 1 1 0 0 0 0 0 0 0 0]\n",
      "[0 0 0 0 0 0 0 0 1 1 1 1 0 0 0 0]\n",
      "[0 0 0 0 0 0 0 0 0 0 0 0 1 1 1 1]\n",
      "[1 0 0 0 1 0 0 0 1 0 0 0 1 0 0 0]\n",
      "[0 1 0 0 0 1 0 0 0 1 0 0 0 1 0 0]\n",
      "[0 0 1 0 0 0 1 0 0 0 1 0 0 0 1 0]\n",
      "[0 0 0 1 0 0 0 1 0 0 0 1 0 0 0 1]\n",
      "Rank : 7\n",
      "Code cardinal : 512\n",
      "Dmin : 4\n"
     ]
    }
   ],
   "source": [
    "M = Matrix(K,8,16, sparse = True)\n",
    "for i in range(8):\n",
    "    if i < 4:\n",
    "        for j in range(4):\n",
    "            M[i,j + 4*i] = 1\n",
    "    else:\n",
    "        for j in range(4):\n",
    "            M[i,4*j + i - 4]=1\n",
    "print(M)\n",
    "print(\"Rank :\", M.rank())\n",
    "card = 0\n",
    "dmin = 16\n",
    "for c in M.right_kernel():\n",
    "    card += 1\n",
    "    d = c.hamming_weight()\n",
    "    if d < dmin and d!=0:\n",
    "        dmin = c.hamming_weight()\n",
    "print(\"Code cardinal :\",card)\n",
    "print(\"Dmin :\", dmin)"
   ]
  },
  {
   "cell_type": "markdown",
   "id": "0f46e048",
   "metadata": {},
   "source": [
    "# Exercice 2"
   ]
  },
  {
   "cell_type": "code",
   "execution_count": 173,
   "id": "d585c618",
   "metadata": {},
   "outputs": [
    {
     "name": "stdout",
     "output_type": "stream",
     "text": [
      "7\n",
      "Code cardinal : 512\n",
      "Dmin : 2\n",
      "X^16 + 4*X^14 + 24*X^12 + 108*X^10 + 238*X^8 + 108*X^6 + 24*X^4 + 4*X^2 + 1\n"
     ]
    }
   ],
   "source": [
    "n = 16\n",
    "k = 8\n",
    "w_l = 4\n",
    "w_c = 2\n",
    "\n",
    "H1 = Matrix(K, n/w_l, n, sparse = True)\n",
    "for i in range(nb_l):\n",
    "    for j in range(w_l):\n",
    "        H1[i, i * w_l + j] = 1\n",
    "H = [H1]\n",
    "H1_t = H1.T\n",
    "perm = [i for i in range(n)]\n",
    "for l in range(w_c - 1):\n",
    "    H_tmp = Matrix(K, n, n/w_l)\n",
    "    shuffle(perm)\n",
    "    for i in range(n):\n",
    "        H_tmp[i] = vector(K, H1_t[perm[i]])\n",
    "    H.append(H_tmp.T)\n",
    "H = block_matrix(w_c, 1, H, subdivide = True)\n",
    "#print(H)\n",
    "print(H.rank())\n",
    "\n",
    "card = 0\n",
    "dmin = n\n",
    "Code = H.right_kernel()\n",
    "for c in Code:\n",
    "    card += 1\n",
    "    d = c.hamming_weight()\n",
    "    if d < dmin and d!=0:\n",
    "        dmin = d\n",
    "print(\"Code cardinal :\",card)\n",
    "print(\"Dmin :\", dmin)\n",
    "\n",
    "POLY.<X> = QQ[]\n",
    "P = 0\n",
    "for c in Code:\n",
    "    d = c.hamming_weight()\n",
    "    P += X^d\n",
    "print(P)"
   ]
  }
 ],
 "metadata": {
  "kernelspec": {
   "display_name": "SageMath 9.4",
   "language": "sage",
   "name": "sagemath"
  },
  "language_info": {
   "codemirror_mode": {
    "name": "ipython",
    "version": 3
   },
   "file_extension": ".py",
   "mimetype": "text/x-python",
   "name": "python",
   "nbconvert_exporter": "python",
   "pygments_lexer": "ipython3",
   "version": "3.9.10"
  }
 },
 "nbformat": 4,
 "nbformat_minor": 5
}
