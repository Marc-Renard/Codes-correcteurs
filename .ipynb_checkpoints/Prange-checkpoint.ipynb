{
 "cells": [
  {
   "cell_type": "code",
   "execution_count": 112,
   "metadata": {},
   "outputs": [],
   "source": [
    "def complementaire(I, n):\n",
    "    J= []\n",
    "    for i in range(1,n+1):\n",
    "        if i not in I:\n",
    "            J.append(i)\n",
    "    return set(J)\n",
    "\n",
    "\n",
    "def pds(s):\n",
    "    p = 0\n",
    "    for i in s:\n",
    "        if i != 0:\n",
    "            p += 1\n",
    "    return p\n",
    "\n",
    "\n",
    "n = 7\n",
    "k = 4\n",
    "S = Subsets(n,k)\n",
    "\n",
    "H = Matrix(GF(2),[[1,1,0,1,1,0,0],[1,0,1,1,0,1,0],[0,1,1,1,0,0,1]])\n",
    "s = [1,0,0,0,1,1,0]\n",
    "w = 5\n",
    "\n",
    "#Entrées : \n",
    "#      - matrice de parité H\n",
    "#      - vecteur syndrome s\n",
    "#      - w dans [0,n]\n",
    "#Sortie : \n",
    "#      - vecteur d'erreur e tel que He^T=s et |e|<w\n",
    "\n",
    "def Prange(H, s, w):\n",
    "    p = w + 1\n",
    "    while p > w:\n",
    "        I = S.random_element()\n",
    "        J = complementaire(I, n)\n",
    "        #print(I)\n",
    "        #print(J)\n",
    "        Hj = H[[k for k in range(0,n-k)],[k for k in range(0,n) if (k+1) in J ]]\n",
    "        if Hj.determinant() == 0:\n",
    "            continue\n",
    "        sj = vector([s[k] for k in range(0,n) if (k+1) in J])\n",
    "        Hinv = Hj.inverse()\n",
    "        sp = Hinv*sj\n",
    "        #print(sp)\n",
    "        #print(pds(sp))\n",
    "        p = pds(sp)\n",
    "    j = 0\n",
    "    e = []\n",
    "    for i in range(n):\n",
    "        if i in J:\n",
    "            e.append(sp[j])\n",
    "            j+= 1\n",
    "        else:\n",
    "            e.append(0)\n",
    "    return e;"
   ]
  },
  {
   "cell_type": "code",
   "execution_count": 115,
   "metadata": {
    "scrolled": true
   },
   "outputs": [
    {
     "data": {
      "text/plain": [
       "[0, 0, 1, 0, 0, 0, 0]"
      ]
     },
     "execution_count": 115,
     "metadata": {},
     "output_type": "execute_result"
    }
   ],
   "source": [
    "Prange(H, s, w)"
   ]
  },
  {
   "cell_type": "code",
   "execution_count": null,
   "metadata": {},
   "outputs": [],
   "source": []
  },
  {
   "cell_type": "code",
   "execution_count": null,
   "metadata": {},
   "outputs": [],
   "source": []
  }
 ],
 "metadata": {
  "kernelspec": {
   "display_name": "SageMath 9.0",
   "language": "sage",
   "name": "sagemath"
  },
  "language_info": {
   "codemirror_mode": {
    "name": "ipython",
    "version": 3
   },
   "file_extension": ".py",
   "mimetype": "text/x-python",
   "name": "python",
   "nbconvert_exporter": "python",
   "pygments_lexer": "ipython3",
   "version": "3.8.10"
  }
 },
 "nbformat": 4,
 "nbformat_minor": 4
}
