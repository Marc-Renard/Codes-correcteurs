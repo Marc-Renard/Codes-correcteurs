{
 "cells": [
  {
   "cell_type": "code",
   "execution_count": 30,
   "metadata": {},
   "outputs": [],
   "source": [
    "def complementaire(I, n):\n",
    "    return set([1..n]).difference(I)\n",
    "\n",
    "def canal(x, nb_err, K):\n",
    "    n = len(x)\n",
    "    I = Subsets(n,nb_err).random_element()\n",
    "    y = []\n",
    "    for i in range(n):\n",
    "        y.append(x[i])\n",
    "        if i+1 in I:\n",
    "            err = 0\n",
    "            while err == 0:\n",
    "                err = K.random_element()\n",
    "            y[i] += err\n",
    "    return vector(GF(q),y)\n",
    " \n",
    " \n",
    "    \n",
    "n = 7\n",
    "k = 4\n",
    "q = 2\n",
    "\n",
    "S = Subsets(n,k)\n",
    "\n",
    "K.<g> = GF(q)\n",
    "\n",
    "H = Matrix(K,[[1,0,1,1,1,0,0],[1,1,0,1,0,1,0],[0,1,1,1,0,0,1]])\n",
    "s = [1,1,0]\n",
    "w = 1\n",
    "\n",
    "#Entrées : \n",
    "#      - matrice de parité H\n",
    "#      - vecteur syndrome s\n",
    "#      - w dans [0,n]\n",
    "#Sortie : \n",
    "#      - vecteur d'erreur e tel que He^T=s et |e|<w\n",
    "\n",
    "def Prange(H, s, w):\n",
    "    p = w + 1\n",
    "    while p > w:\n",
    "        I = S.random_element()\n",
    "        J = complementaire(I, n)\n",
    "        #print(I)\n",
    "        #print(J)\n",
    "        Hj = H[[i for i in range(0,n-k)],[j for j in range(0,n) if (j+1) in J ]]\n",
    "        if Hj.determinant() == 0:\n",
    "            continue\n",
    "        sj = vector(K,s)\n",
    "        Hinv = Hj.inverse()\n",
    "        sp = Hinv*sj\n",
    "        #print(sp)\n",
    "        p = sp.hamming_weight()\n",
    "    j = 0\n",
    "    e = []\n",
    "    for i in range(n):\n",
    "        if i + 1 in J:\n",
    "            e.append(sp[j])\n",
    "            j+= 1\n",
    "        else:\n",
    "            e.append(0)\n",
    "    return vector(K,e);"
   ]
  },
  {
   "cell_type": "code",
   "execution_count": 27,
   "metadata": {},
   "outputs": [
    {
     "name": "stdout",
     "output_type": "stream",
     "text": [
      "[1 0 1 1 1 0 0]\n",
      "[1 1 0 1 0 1 0]\n",
      "[0 1 1 1 0 0 1]\n",
      "(1, 0, 0, 0, 0, 0, 0)\n"
     ]
    }
   ],
   "source": [
    "print(H)\n",
    "e = Prange(H, s, w)\n",
    "print(e)"
   ]
  },
  {
   "cell_type": "markdown",
   "metadata": {},
   "source": [
    "Test :"
   ]
  },
  {
   "cell_type": "code",
   "execution_count": 31,
   "metadata": {},
   "outputs": [
    {
     "name": "stdout",
     "output_type": "stream",
     "text": [
      "G:\n",
      " [1 0 0 0 1 1 0]\n",
      "[0 1 0 0 0 1 1]\n",
      "[0 0 1 0 1 0 1]\n",
      "[0 0 0 1 1 1 1]\n",
      "H:\n",
      " [1 0 1 1 1 0 0]\n",
      "[1 1 0 1 0 1 0]\n",
      "[0 1 1 1 0 0 1]\n",
      "mot de code c : (1, 0, 0, 0, 1, 1, 0)\n",
      "Mot reçu avec une erreur : (1, 0, 0, 1, 1, 1, 0)\n",
      "Syndrôme obtenu : (1, 1, 1)\n",
      "Erreur trouvée : (0, 0, 0, 1, 0, 0, 0)\n",
      "Mot décodé : (1, 0, 0, 0, 1, 1, 0)\n",
      "Mot bien décodé: True\n"
     ]
    }
   ],
   "source": [
    "G = Matrix(GF(q),[[1,0,0,0,1,1,0],[0,1,0,0,0,1,1],[0,0,1,0,1,0,1],[0,0,0,1,1,1,1]])\n",
    "print(\"G:\\n\",G)\n",
    "print(\"H:\\n\",H)\n",
    "m = vector(GF(q),[1,0,0,0])\n",
    "c = m*G\n",
    "print(\"mot de code c :\" ,c)\n",
    "u = canal(c, 1, K)\n",
    "print(\"Mot reçu avec une erreur :\", u)\n",
    "s = H*u\n",
    "print(\"Syndrôme obtenu :\",s)\n",
    "e = Prange(H, s, w)\n",
    "print(\"Erreur trouvée :\", e)\n",
    "cp = u + e\n",
    "print(\"Mot décodé :\",cp)\n",
    "print(\"Mot bien décodé:\", cp == c)"
   ]
  },
  {
   "cell_type": "code",
   "execution_count": null,
   "metadata": {},
   "outputs": [],
   "source": []
  },
  {
   "cell_type": "code",
   "execution_count": null,
   "metadata": {},
   "outputs": [],
   "source": []
  },
  {
   "cell_type": "code",
   "execution_count": null,
   "metadata": {},
   "outputs": [],
   "source": []
  }
 ],
 "metadata": {
  "kernelspec": {
   "display_name": "SageMath 9.0",
   "language": "sage",
   "name": "sagemath"
  },
  "language_info": {
   "codemirror_mode": {
    "name": "ipython",
    "version": 3
   },
   "file_extension": ".py",
   "mimetype": "text/x-python",
   "name": "python",
   "nbconvert_exporter": "python",
   "pygments_lexer": "ipython3",
   "version": "3.8.10"
  }
 },
 "nbformat": 4,
 "nbformat_minor": 4
}
