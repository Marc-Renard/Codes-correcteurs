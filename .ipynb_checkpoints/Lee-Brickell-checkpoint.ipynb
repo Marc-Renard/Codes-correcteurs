{
 "cells": [
  {
   "cell_type": "code",
   "execution_count": 4,
   "metadata": {},
   "outputs": [],
   "source": [
    "from time import time\n",
    "\n",
    "def complementaire(I, n):\n",
    "    return set([1..n]).difference(I)\n",
    "\n",
    "def canal(x, nb_err, K):\n",
    "    n = len(x)\n",
    "    I = Subsets(n,nb_err).random_element()\n",
    "    y = []\n",
    "    for i in range(n):\n",
    "        y.append(x[i])\n",
    "        if i+1 in I:\n",
    "            err = 0\n",
    "            while err == 0:\n",
    "                err = K.random_element()\n",
    "            y[i] += err\n",
    "    return vector(K,y)\n",
    " \n",
    "\n",
    "n = 9\n",
    "k = 7\n",
    "q = 8\n",
    "\n",
    "S = Subsets(n,k)\n",
    "\n",
    "w = 1\n",
    "p = 0\n",
    "\n",
    "def lee_brickel(H, s, w):\n",
    "    while True:\n",
    "        I = S.random_element()\n",
    "        J = complementaire(I, n)\n",
    "        Hj = H[[i for i in range(0,n-k)],[j for j in range(0,n) if (j+1) in J ]]\n",
    "        if Hj.determinant() == 0:\n",
    "            continue\n",
    "        sj = vector(K,s)\n",
    "        Hj_inv = Hj.inverse()\n",
    "        sp = Hj_inv * sj\n",
    "        V = VectorSpace(K, k)\n",
    "        for x in V:\n",
    "            if x.hamming_weight() == p:\n",
    "                Hi = H[[i for i in range(0,n-k)],[j for j in range(0,n) if (j+1) in I ]]\n",
    "                y = sp - Hj_inv * Hi * x\n",
    "                if y.hamming_weight() <= w - p:\n",
    "                    e = []\n",
    "                    j = 0\n",
    "                    for i in range(n):\n",
    "                        if i + 1 in J:\n",
    "                            e.append(sp[j])\n",
    "                            j+= 1\n",
    "                        else:\n",
    "                            e.append(0)\n",
    "                    return vector(K,e);\n"
   ]
  },
  {
   "cell_type": "code",
   "execution_count": 5,
   "metadata": {},
   "outputs": [
    {
     "name": "stdout",
     "output_type": "stream",
     "text": [
      "mot de code c : (g, g + 1, g, 1, g^2, 0, g^2 + g, g^2 + g + 1, g)\n",
      "Mot reçu avec une erreur : (g, g + 1, g, 1, g^2, 0, g^2 + g, g + 1, g)\n",
      "Syndrôme obtenu : (g^2, 0)\n",
      "Erreur trouvée : (0, 0, 0, 0, 0, 0, 0, g^2, 0)\n",
      "Mot décodé : (g, g + 1, g, 1, g^2, 0, g^2 + g, g^2 + g + 1, g)\n",
      "Mod bien décodé : True\n",
      "time to decode : 92.98630332946777  seconds\n"
     ]
    }
   ],
   "source": [
    "K.<g> = GF(q)\n",
    "H = Matrix(K,[[1,g^2+g, 1, g^2, 1, g, 1,1,0],[g+1,1,g^2,1,g,1,1,0,1]])\n",
    "G = Matrix(K,[[1,0,0,0,0,0,0,1,g+1],[0,1,0,0,0,0,0,g^2+g,1],[0,0,1,0,0,0,0,1,g^2],[0,0,0,1,0,0,0,g^2,1],[0,0,0,0,1,0,0,1,g], [0,0,0,0,0,1,0,g,1], [0,0,0,0,0,0,1,1,1]])\n",
    "m = vector(K,[g,1+g,g,1,g^2,0,g+g^2])\n",
    "c = m*G\n",
    "print(\"mot de code c :\" ,c)\n",
    "u = canal(c, 1, K)\n",
    "print(\"Mot reçu avec une erreur :\", u)\n",
    "s = H*u\n",
    "print(\"Syndrôme obtenu :\",s)\n",
    "t1 = time()\n",
    "e = lee_brickel(H, s, w)\n",
    "t2 = time()\n",
    "print(\"Erreur trouvée :\", e)\n",
    "cp = u + e\n",
    "print(\"Mot décodé :\",cp)\n",
    "print(\"Mod bien décodé :\", c == cp)\n",
    "print(\"time to decode :\", t2-t1 ,\" seconds\")"
   ]
  },
  {
   "cell_type": "code",
   "execution_count": null,
   "metadata": {},
   "outputs": [],
   "source": []
  },
  {
   "cell_type": "code",
   "execution_count": null,
   "metadata": {},
   "outputs": [],
   "source": []
  }
 ],
 "metadata": {
  "kernelspec": {
   "display_name": "SageMath 9.0",
   "language": "sage",
   "name": "sagemath"
  },
  "language_info": {
   "codemirror_mode": {
    "name": "ipython",
    "version": 3
   },
   "file_extension": ".py",
   "mimetype": "text/x-python",
   "name": "python",
   "nbconvert_exporter": "python",
   "pygments_lexer": "ipython3",
   "version": "3.8.10"
  }
 },
 "nbformat": 4,
 "nbformat_minor": 4
}
