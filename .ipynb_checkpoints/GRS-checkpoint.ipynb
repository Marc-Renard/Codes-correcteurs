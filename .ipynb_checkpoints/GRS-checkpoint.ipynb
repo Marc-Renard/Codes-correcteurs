{
 "cells": [
  {
   "cell_type": "code",
   "execution_count": 5,
   "metadata": {},
   "outputs": [],
   "source": [
    "class GRS:\n",
    "    def __init__(self,m,n,k,y):\n",
    "        self.m = m\n",
    "        self.q = 2^m\n",
    "        self.n = n\n",
    "        self.k = k\n",
    "        self.x = [0 for i in range(n)]\n",
    "        self.y = [y[i] for i in range(n)]\n",
    "    \n",
    "    \n",
    "    def calc_x(self,g):\n",
    "        self.x = [g^i for i in range(n-1)]\n",
    "        self.x.append(0)\n",
    "        \n",
    "    def encode(self,K,M):\n",
    "        return vector(K,[sum([self.y[j]*self.x[j]^(self.k-i-1)*M[i] for i in range(self.k)]) for j in range(n)])\n",
    "        \n",
    "    def distance_min(self,K):\n",
    "        info_space = VectorSpace(K,self.k)\n",
    "        w_min = self.n\n",
    "\n",
    "        for M in info_space:\n",
    "            w_tmp = self.encode(K,M).hamming_weight()\n",
    "            if w_tmp > 0 and w_tmp<w_min:\n",
    "                w_min = w_tmp\n",
    "                \n",
    "        return w_min\n",
    "    "
   ]
  },
  {
   "cell_type": "markdown",
   "metadata": {},
   "source": [
    "<h1>EXERCICE 1</h1>"
   ]
  },
  {
   "cell_type": "markdown",
   "metadata": {},
   "source": [
    "<h3>Pour les valeurs m = 3 n = 6 k = 4 et y = 1 </h3>"
   ]
  },
  {
   "cell_type": "code",
   "execution_count": 6,
   "metadata": {},
   "outputs": [
    {
     "name": "stdout",
     "output_type": "stream",
     "text": [
      "[1, g, g^2, g + 1, g^2 + g, 0]\n",
      "dmin =  3\n"
     ]
    }
   ],
   "source": [
    "m = 3\n",
    "q = 2^m\n",
    "n=6\n",
    "k=4\n",
    "\n",
    "K.<g> = GF(q)\n",
    "\n",
    "y = [1 for i in range(n)]\n",
    "\n",
    "grs = GRS(m,n,k,y)\n",
    "grs.calc_x(g)\n",
    "print(grs.x)\n",
    "\n",
    "\n",
    "w_min = grs.distance_min(K)\n",
    "\n",
    "print(\"dmin = \", w_min)\n",
    "    "
   ]
  },
  {
   "cell_type": "markdown",
   "metadata": {},
   "source": [
    "<h3>Pour les valeurs m = 3 n = 6 k = 4 et y random </h3>"
   ]
  },
  {
   "cell_type": "code",
   "execution_count": 16,
   "metadata": {},
   "outputs": [
    {
     "name": "stdout",
     "output_type": "stream",
     "text": [
      "[g + 1, g, g^2 + g + 1, g^2, g^2 + g + 1, g]\n",
      "[1, g, g^2, g + 1, g^2 + g, 0]\n",
      "dmin =  3\n"
     ]
    }
   ],
   "source": [
    "m = 3\n",
    "q = 2^m\n",
    "n=6\n",
    "k=4\n",
    "\n",
    "K.<g> = GF(q)\n",
    "\n",
    "y = [K.fetch_int(randint(1,q-1)) for i in range(n)]\n",
    "print(y)\n",
    "\n",
    "grs = GRS(m,n,k,y)\n",
    "grs.calc_x(g)\n",
    "print(grs.x)\n",
    "\n",
    "\n",
    "w_min = grs.distance_min(K)\n",
    "\n",
    "print(\"dmin = \", w_min)\n",
    "    "
   ]
  },
  {
   "cell_type": "markdown",
   "metadata": {},
   "source": [
    "<h3>Pour les valeurs m = 8 n = 256 k = 2 et y = 1 </h3>"
   ]
  },
  {
   "cell_type": "code",
   "execution_count": 17,
   "metadata": {},
   "outputs": [
    {
     "name": "stdout",
     "output_type": "stream",
     "text": [
      "[1, g, g^2, g^3, g^4, g^5, g^6, g^7, g^4 + g^3 + g^2 + 1, g^5 + g^4 + g^3 + g, g^6 + g^5 + g^4 + g^2, g^7 + g^6 + g^5 + g^3, g^7 + g^6 + g^3 + g^2 + 1, g^7 + g^2 + g + 1, g^4 + g + 1, g^5 + g^2 + g, g^6 + g^3 + g^2, g^7 + g^4 + g^3, g^5 + g^3 + g^2 + 1, g^6 + g^4 + g^3 + g, g^7 + g^5 + g^4 + g^2, g^6 + g^5 + g^4 + g^2 + 1, g^7 + g^6 + g^5 + g^3 + g, g^7 + g^6 + g^3 + 1, g^7 + g^3 + g^2 + g + 1, g + 1, g^2 + g, g^3 + g^2, g^4 + g^3, g^5 + g^4, g^6 + g^5, g^7 + g^6, g^7 + g^4 + g^3 + g^2 + 1, g^5 + g^2 + g + 1, g^6 + g^3 + g^2 + g, g^7 + g^4 + g^3 + g^2, g^5 + g^2 + 1, g^6 + g^3 + g, g^7 + g^4 + g^2, g^5 + g^4 + g^2 + 1, g^6 + g^5 + g^3 + g, g^7 + g^6 + g^4 + g^2, g^7 + g^5 + g^4 + g^2 + 1, g^6 + g^5 + g^4 + g^2 + g + 1, g^7 + g^6 + g^5 + g^3 + g^2 + g, g^7 + g^6 + 1, g^7 + g^4 + g^3 + g^2 + g + 1, g^5 + g + 1, g^6 + g^2 + g, g^7 + g^3 + g^2, g^2 + 1, g^3 + g, g^4 + g^2, g^5 + g^3, g^6 + g^4, g^7 + g^5, g^6 + g^4 + g^3 + g^2 + 1, g^7 + g^5 + g^4 + g^3 + g, g^6 + g^5 + g^3 + 1, g^7 + g^6 + g^4 + g, g^7 + g^5 + g^4 + g^3 + 1, g^6 + g^5 + g^3 + g^2 + g + 1, g^7 + g^6 + g^4 + g^3 + g^2 + g, g^7 + g^5 + 1, g^6 + g^4 + g^3 + g^2 + g + 1, g^7 + g^5 + g^4 + g^3 + g^2 + g, g^6 + g^5 + 1, g^7 + g^6 + g, g^7 + g^4 + g^3 + 1, g^5 + g^3 + g^2 + g + 1, g^6 + g^4 + g^3 + g^2 + g, g^7 + g^5 + g^4 + g^3 + g^2, g^6 + g^5 + g^2 + 1, g^7 + g^6 + g^3 + g, g^7 + g^3 + 1, g^3 + g^2 + g + 1, g^4 + g^3 + g^2 + g, g^5 + g^4 + g^3 + g^2, g^6 + g^5 + g^4 + g^3, g^7 + g^6 + g^5 + g^4, g^7 + g^6 + g^5 + g^4 + g^3 + g^2 + 1, g^7 + g^6 + g^5 + g^2 + g + 1, g^7 + g^6 + g^4 + g + 1, g^7 + g^5 + g^4 + g^3 + g + 1, g^6 + g^5 + g^3 + g + 1, g^7 + g^6 + g^4 + g^2 + g, g^7 + g^5 + g^4 + 1, g^6 + g^5 + g^4 + g^3 + g^2 + g + 1, g^7 + g^6 + g^5 + g^4 + g^3 + g^2 + g, g^7 + g^6 + g^5 + 1, g^7 + g^6 + g^4 + g^3 + g^2 + g + 1, g^7 + g^5 + g + 1, g^6 + g^4 + g^3 + g + 1, g^7 + g^5 + g^4 + g^2 + g, g^6 + g^5 + g^4 + 1, g^7 + g^6 + g^5 + g, g^7 + g^6 + g^4 + g^3 + 1, g^7 + g^5 + g^3 + g^2 + g + 1, g^6 + g + 1, g^7 + g^2 + g, g^4 + 1, g^5 + g, g^6 + g^2, g^7 + g^3, g^3 + g^2 + 1, g^4 + g^3 + g, g^5 + g^4 + g^2, g^6 + g^5 + g^3, g^7 + g^6 + g^4, g^7 + g^5 + g^4 + g^3 + g^2 + 1, g^6 + g^5 + g^2 + g + 1, g^7 + g^6 + g^3 + g^2 + g, g^7 + 1, g^4 + g^3 + g^2 + g + 1, g^5 + g^4 + g^3 + g^2 + g, g^6 + g^5 + g^4 + g^3 + g^2, g^7 + g^6 + g^5 + g^4 + g^3, g^7 + g^6 + g^5 + g^3 + g^2 + 1, g^7 + g^6 + g^2 + g + 1, g^7 + g^4 + g + 1, g^5 + g^4 + g^3 + g + 1, g^6 + g^5 + g^4 + g^2 + g, g^7 + g^6 + g^5 + g^3 + g^2, g^7 + g^6 + g^2 + 1, g^7 + g^4 + g^2 + g + 1, g^5 + g^4 + g + 1, g^6 + g^5 + g^2 + g, g^7 + g^6 + g^3 + g^2, g^7 + g^2 + 1, g^4 + g^2 + g + 1, g^5 + g^3 + g^2 + g, g^6 + g^4 + g^3 + g^2, g^7 + g^5 + g^4 + g^3, g^6 + g^5 + g^3 + g^2 + 1, g^7 + g^6 + g^4 + g^3 + g, g^7 + g^5 + g^3 + 1, g^6 + g^3 + g^2 + g + 1, g^7 + g^4 + g^3 + g^2 + g, g^5 + 1, g^6 + g, g^7 + g^2, g^4 + g^2 + 1, g^5 + g^3 + g, g^6 + g^4 + g^2, g^7 + g^5 + g^3, g^6 + g^3 + g^2 + 1, g^7 + g^4 + g^3 + g, g^5 + g^3 + 1, g^6 + g^4 + g, g^7 + g^5 + g^2, g^6 + g^4 + g^2 + 1, g^7 + g^5 + g^3 + g, g^6 + g^3 + 1, g^7 + g^4 + g, g^5 + g^4 + g^3 + 1, g^6 + g^5 + g^4 + g, g^7 + g^6 + g^5 + g^2, g^7 + g^6 + g^4 + g^2 + 1, g^7 + g^5 + g^4 + g^2 + g + 1, g^6 + g^5 + g^4 + g + 1, g^7 + g^6 + g^5 + g^2 + g, g^7 + g^6 + g^4 + 1, g^7 + g^5 + g^4 + g^3 + g^2 + g + 1, g^6 + g^5 + g + 1, g^7 + g^6 + g^2 + g, g^7 + g^4 + 1, g^5 + g^4 + g^3 + g^2 + g + 1, g^6 + g^5 + g^4 + g^3 + g^2 + g, g^7 + g^6 + g^5 + g^4 + g^3 + g^2, g^7 + g^6 + g^5 + g^2 + 1, g^7 + g^6 + g^4 + g^2 + g + 1, g^7 + g^5 + g^4 + g + 1, g^6 + g^5 + g^4 + g^3 + g + 1, g^7 + g^6 + g^5 + g^4 + g^2 + g, g^7 + g^6 + g^5 + g^4 + 1, g^7 + g^6 + g^5 + g^4 + g^3 + g^2 + g + 1, g^7 + g^6 + g^5 + g + 1, g^7 + g^6 + g^4 + g^3 + g + 1, g^7 + g^5 + g^3 + g + 1, g^6 + g^3 + g + 1, g^7 + g^4 + g^2 + g, g^5 + g^4 + 1, g^6 + g^5 + g, g^7 + g^6 + g^2, g^7 + g^4 + g^2 + 1, g^5 + g^4 + g^2 + g + 1, g^6 + g^5 + g^3 + g^2 + g, g^7 + g^6 + g^4 + g^3 + g^2, g^7 + g^5 + g^2 + 1, g^6 + g^4 + g^2 + g + 1, g^7 + g^5 + g^3 + g^2 + g, g^6 + 1, g^7 + g, g^4 + g^3 + 1, g^5 + g^4 + g, g^6 + g^5 + g^2, g^7 + g^6 + g^3, g^7 + g^3 + g^2 + 1, g^2 + g + 1, g^3 + g^2 + g, g^4 + g^3 + g^2, g^5 + g^4 + g^3, g^6 + g^5 + g^4, g^7 + g^6 + g^5, g^7 + g^6 + g^4 + g^3 + g^2 + 1, g^7 + g^5 + g^2 + g + 1, g^6 + g^4 + g + 1, g^7 + g^5 + g^2 + g, g^6 + g^4 + 1, g^7 + g^5 + g, g^6 + g^4 + g^3 + 1, g^7 + g^5 + g^4 + g, g^6 + g^5 + g^4 + g^3 + 1, g^7 + g^6 + g^5 + g^4 + g, g^7 + g^6 + g^5 + g^4 + g^3 + 1, g^7 + g^6 + g^5 + g^3 + g^2 + g + 1, g^7 + g^6 + g + 1, g^7 + g^4 + g^3 + g + 1, g^5 + g^3 + g + 1, g^6 + g^4 + g^2 + g, g^7 + g^5 + g^3 + g^2, g^6 + g^2 + 1, g^7 + g^3 + g, g^3 + 1, g^4 + g, g^5 + g^2, g^6 + g^3, g^7 + g^4, g^5 + g^4 + g^3 + g^2 + 1, g^6 + g^5 + g^4 + g^3 + g, g^7 + g^6 + g^5 + g^4 + g^2, g^7 + g^6 + g^5 + g^4 + g^2 + 1, g^7 + g^6 + g^5 + g^4 + g^2 + g + 1, g^7 + g^6 + g^5 + g^4 + g + 1, g^7 + g^6 + g^5 + g^4 + g^3 + g + 1, g^7 + g^6 + g^5 + g^3 + g + 1, g^7 + g^6 + g^3 + g + 1, g^7 + g^3 + g + 1, g^3 + g + 1, g^4 + g^2 + g, g^5 + g^3 + g^2, g^6 + g^4 + g^3, g^7 + g^5 + g^4, g^6 + g^5 + g^4 + g^3 + g^2 + 1, g^7 + g^6 + g^5 + g^4 + g^3 + g, g^7 + g^6 + g^5 + g^3 + 1, g^7 + g^6 + g^3 + g^2 + g + 1, g^7 + g + 1, g^4 + g^3 + g + 1, g^5 + g^4 + g^2 + g, g^6 + g^5 + g^3 + g^2, g^7 + g^6 + g^4 + g^3, g^7 + g^5 + g^3 + g^2 + 1, g^6 + g^2 + g + 1, g^7 + g^3 + g^2 + g, 0]\n",
      "dmin =  255\n"
     ]
    }
   ],
   "source": [
    "m = 8\n",
    "q = 2^m\n",
    "n=256\n",
    "k=2\n",
    "\n",
    "K.<g> = GF(q)\n",
    "\n",
    "y = [1 for i in range(n)]\n",
    "\n",
    "grs = GRS(m,n,k,y)\n",
    "grs.calc_x(g)\n",
    "print(grs.x)\n",
    "\n",
    "\n",
    "w_min = grs.distance_min(K)\n",
    "\n",
    "print(\"dmin = \", w_min)\n",
    "    "
   ]
  },
  {
   "cell_type": "code",
   "execution_count": null,
   "metadata": {},
   "outputs": [],
   "source": []
  }
 ],
 "metadata": {
  "kernelspec": {
   "display_name": "SageMath 9.0",
   "language": "sage",
   "name": "sagemath"
  },
  "language_info": {
   "codemirror_mode": {
    "name": "ipython",
    "version": 3
   },
   "file_extension": ".py",
   "mimetype": "text/x-python",
   "name": "python",
   "nbconvert_exporter": "python",
   "pygments_lexer": "ipython3",
   "version": "3.8.10"
  }
 },
 "nbformat": 4,
 "nbformat_minor": 5
}
