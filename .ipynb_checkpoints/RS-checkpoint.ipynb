{
 "cells": [
  {
   "cell_type": "code",
   "execution_count": 1,
   "metadata": {},
   "outputs": [],
   "source": [
    "from time import time\n",
    "from sage.coding.guruswami_sudan.interpolation import gs_interpolation_lee_osullivan\n",
    "from sage.coding.guruswami_sudan.gs_decoder import alekhnovich_root_finder, roth_ruckenstein_root_finder\n",
    "\n",
    "class RS:\n",
    "    def __init__(self,q,n,k, K, g):\n",
    "        if n > q :\n",
    "            print(\"Error, n must be equal or less than q\")\n",
    "            return -1\n",
    "        self.q = q\n",
    "        self.n = n\n",
    "        self.k = k\n",
    "        self.d = n - k + 1\n",
    "        self.t = floor((self.d - 1)/2.0)\n",
    "        self.K = K\n",
    "        self.g = g\n",
    "        self.x = [g^i for i in range(n-1)]\n",
    "        self.x.append(0)\n",
    "     \n",
    "    def encode(self,M):\n",
    "        return vector(self.K,[sum([self.x[j]^(self.k-i-1)*M[i] for i in range(self.k)]) for j in range(self.n)])\n",
    "        \n",
    "    def distance_min(self):\n",
    "        info_space = VectorSpace(self.K,self.k)\n",
    "        w_min = self.n\n",
    "\n",
    "        for M in info_space:\n",
    "            w_tmp = self.encode(M).hamming_weight()\n",
    "            if w_tmp > 0 and w_tmp<w_min:\n",
    "                w_min = w_tmp\n",
    "                \n",
    "        return w_min\n",
    "    \n",
    "    def decode_BW(self,U):\n",
    "        M = Matrix(self.K, self.n, self.n + 1) \n",
    "        for i in range(self.n):\n",
    "            for j in range(self.t + 1):\n",
    "                M[i,j] = U[i]*(self.x[i])^j\n",
    "            for j in range(self.n - self.t):\n",
    "                M[i,self.t+1+j] = -(self.x[i])^(j)\n",
    "        #print(M)\n",
    "        \n",
    "        coefs = M.right_kernel().basis_matrix().rows()[0]\n",
    "        R.<X> = PolynomialRing(self.K)\n",
    "        A = 0\n",
    "        B = 0\n",
    "        tmp = 1\n",
    "        for i in range(self.t + 1):\n",
    "            A += coefs[i]*tmp\n",
    "            tmp *= X\n",
    "        tmp = 1\n",
    "        for i in range(self.n - self.t):\n",
    "            B += coefs[self.t + i + 1] * tmp\n",
    "            tmp *= X\n",
    "        r = B//A\n",
    "        coefs = r.list() # https://ask.sagemath.org/question/26907/get-the-coefficients-from-the-polynomial/\n",
    "        \n",
    "        while len(coefs)<self.k:\n",
    "            coefs.append(0)\n",
    "        coefs.reverse()\n",
    "        return vector(self.K, coefs)\n",
    "    \n",
    "    def decode_BM(self, u):\n",
    "        pol.<X> = PolynomialRing(self.K)\n",
    "        points = []\n",
    "        Pi = 1\n",
    "        for i in range(self.n):\n",
    "            points.append((self.x[i],u[i]))\n",
    "            Pi = Pi * (X - self.x[i])\n",
    "        U = pol.lagrange_polynomial(points)\n",
    "        #print(U)\n",
    "        C0, A0, B0 = 1, 0 , Pi\n",
    "        C1, A1, B1 = 0, 1 , U\n",
    "        while B1.degree() >= self.n - self.t:\n",
    "            B2 = B0 % B1\n",
    "            Q = B0 // B1\n",
    "            A2 = A0 - Q * A1\n",
    "            C2 = C0 - Q * C1\n",
    "            A0, B0, C0 = A1, B1, C1\n",
    "            A1, B1, C1 = A2, B2, C2\n",
    "        r = B1//A1\n",
    "        coefs = r.list() # https://ask.sagemath.org/question/26907/get-the-coefficients-from-the-polynomial/\n",
    "        \n",
    "        while len(coefs)<self.k:\n",
    "            coefs.append(0)\n",
    "        coefs.reverse()\n",
    "        return vector(self.K, coefs)\n",
    "        \n",
    "\n",
    "    def poly_to_coefs(self, poly):\n",
    "        coefs = poly.list() # https://ask.sagemath.org/question/26907/get-the-coefficients-from-the-polynomial/\n",
    "        while len(coefs)<self.k:\n",
    "            coefs.append(0)\n",
    "        coefs.reverse()\n",
    "        return coefs\n",
    "\n",
    "    def decode_GuSu(self, u, radius, multiplicity):\n",
    "        points = []\n",
    "        l = ceil(multiplicity*(self.n - radius)/(self.k - 1)) - 1 \n",
    "        for i in range(self.n):\n",
    "            points.append((self.x[i],u[i]))\n",
    "        Q = gs_interpolation_lee_osullivan(points, radius, (multiplicity, l), self.k - 1 )\n",
    "        #F = alekhnovich_root_finder(Q, maxd = self.k - 1 )\n",
    "        F = roth_ruckenstein_root_finder(Q, maxd = self.k - 1 )\n",
    "        if len(F) == 0:\n",
    "            print(\"Error, no code found\")\n",
    "            return 0\n",
    "        if len(F) == 1:\n",
    "            return self.poly_to_coefs(F[0])\n",
    "        else :\n",
    "            # search the nearest solution to u\n",
    "            uu = vector(self.K, u)\n",
    "            candidat = 0\n",
    "            min_w = self.n\n",
    "            for i in range(len(F)):\n",
    "                coefs = self.poly_to_coefs(F[i])\n",
    "                encoded = self.encode(coefs)\n",
    "                encoded = vector(self.K, encoded)\n",
    "                print(encoded)\n",
    "                diff = (uu - encoded).hamming_weight()\n",
    "                if diff < min_w :\n",
    "                    candidat = i\n",
    "                    min_w = diff\n",
    "            return self.poly_to_coefs(F[candidat])   \n",
    "    \n",
    "    def decode_Su(self, u, radius):\n",
    "        return decode_GuSu(self, u, radius, 1)"
   ]
  },
  {
   "cell_type": "code",
   "execution_count": 2,
   "metadata": {},
   "outputs": [],
   "source": [
    "def canal(x, nb_err, K):\n",
    "    n = len(x)\n",
    "    I = Subsets(n,nb_err).random_element()\n",
    "    y = []\n",
    "    for i in range(n):\n",
    "        y.append(x[i])\n",
    "        if i+1 in I:\n",
    "            err = 0\n",
    "            while err == 0:\n",
    "                err = K.random_element()\n",
    "            y[i] += err\n",
    "    return vector(K,y)\n",
    " "
   ]
  },
  {
   "cell_type": "markdown",
   "metadata": {},
   "source": [
    "# Test Berlekamp Welch"
   ]
  },
  {
   "cell_type": "code",
   "execution_count": 3,
   "metadata": {},
   "outputs": [
    {
     "name": "stdout",
     "output_type": "stream",
     "text": [
      "Well decoded : True\n",
      "time to decode : 0.6034340858459473  seconds\n"
     ]
    }
   ],
   "source": [
    "m = 8\n",
    "q = 2^m\n",
    "n = 200\n",
    "k = 150\n",
    "K.<g> = GF(q)\n",
    "R = RS(q,n,k,K,g)\n",
    "\n",
    "mess = vector(K, [R.K.random_element() for i in range(R.k)])\n",
    "#print(\"Information : \", mess)\n",
    "\n",
    "m = R.encode(mess)\n",
    "#print(\"Code word   : \", m)\n",
    "U = canal(m, R.t, K)\n",
    "#print(\"Received    : \", U)\n",
    "t1 = time()\n",
    "m1 = R.decode_BW(U)\n",
    "t2 = time()\n",
    "#print(\"decoded information:\", m1)\n",
    "print(\"Well decoded :\", m1 == mess)\n",
    "print(\"time to decode :\", t2-t1 ,\" seconds\")\n",
    "\n"
   ]
  },
  {
   "cell_type": "markdown",
   "metadata": {},
   "source": [
    "# Test Berlekamp Massey"
   ]
  },
  {
   "cell_type": "code",
   "execution_count": 4,
   "metadata": {},
   "outputs": [
    {
     "name": "stdout",
     "output_type": "stream",
     "text": [
      "Well decoded : True\n",
      "time to decode : 1.6989481449127197  seconds\n"
     ]
    }
   ],
   "source": [
    "m = 8\n",
    "q = 2^m\n",
    "n = 200\n",
    "k = 150\n",
    "K.<g> = GF(q)\n",
    "R = RS(q,n,k,K,g)\n",
    "\n",
    "mess = vector(K, [R.K.random_element() for i in range(R.k)])\n",
    "#print(\"Information : \", mess)\n",
    "\n",
    "m = R.encode(mess)\n",
    "#rint(\"Code word   : \", m)\n",
    "U = canal(m, R.t, K)\n",
    "#print(\"Received    : \", U)\n",
    "t1 = time()\n",
    "m1 = R.decode_BM(U)\n",
    "t2 = time()\n",
    "#print(\"decoded information:\", m1)\n",
    "print(\"Well decoded :\", m1 == mess)\n",
    "print(\"time to decode :\", t2-t1 ,\" seconds\")"
   ]
  },
  {
   "cell_type": "raw",
   "metadata": {},
   "source": [
    "Sur un [40,30] Berlekamp Massey met en moyenne deux fois plus de temps que Berlekamp Welch (0.1 vs 0.05s)\n",
    "Sur un [100,50] Berlekamp Massey met en moyenne 0.15s et Berlekamp Welch 0.6s\n",
    "Sur un [200,150] Berlekamp Massey met en moyenne 0.57s et Berlekamp Welch 1.7s"
   ]
  },
  {
   "cell_type": "markdown",
   "metadata": {},
   "source": [
    "# Test Gurusuami Sudan"
   ]
  },
  {
   "cell_type": "code",
   "execution_count": 37,
   "metadata": {},
   "outputs": [
    {
     "name": "stdout",
     "output_type": "stream",
     "text": [
      "Well decoded : True\n",
      "Time to decode :  151.5898916721344  seconds\n"
     ]
    }
   ],
   "source": [
    "m = 8\n",
    "base = 2\n",
    "q = base^m\n",
    "n = 13\n",
    "k = 10\n",
    "K.<g> = GF(q)\n",
    "\n",
    "\n",
    "\n",
    "grs = RS(q, n, k, K, g)\n",
    "mess = vector(K, [K.random_element() for i in range(k)])\n",
    "#print(\"Message : \", mess)\n",
    "c = grs.encode(mess)\n",
    "#print(\"Encoded message :\", c)\n",
    "u = canal(c, grs.t + 1,  K)\n",
    "#print(\"Code received : \", u)\n",
    "t1 = time()\n",
    "m = grs.decode_GuSu( u, grs.t + 2, n) \n",
    "t2 = time()\n",
    "m = vector(K, m)\n",
    "#print(\"Message decoded :\", m)\n",
    "print(\"Well decoded :\", m == mess)\n",
    "print(\"Time to decode : \", t2 - t1, \" seconds\")"
   ]
  },
  {
   "cell_type": "raw",
   "metadata": {},
   "source": [
    "Malheureusement une erreur doit être présente car les temps de calcul explosent rapidement.\n",
    "Pour un [20,10], t = 5, rayon de décodage 8, le décodeur semble ne jamais s'arrêter\n",
    "Cependant il fonctionne pour des valeurs telles que :\n",
    "    [6,4] sur F256, t = 1, t erreurs, rayon de décodage 2, décodage en 0.64s\n",
    "    [7,5] sur F256, t = 1, t erreurs, rayon de décodage 2, décodage en 2.27s\n",
    "    [9,7] sur F256, t = 1, t erreurs, rayon de décodage 2, décodage en 5.22s\n",
    "    [10,7] sur F256, t = 1, t erreurs, rayon de décodage 2, décodage en 31s\n",
    "    [10,7] sur F256, t = 1, t erreurs, rayon de décodage 3, décodage en 15s\n",
    "    [10,7] sur F256, t = 1, t + 1 erreurs, rayon de décodage 3, décodage en 36s\n",
    "    [13,10] sur F256, t = 1, t erreurs, rayon de décodage 2, décodage en 103s\n",
    "    [13,10] sur F256, t = 1, t erreurs, rayon de décodage 3, décodage en 77s\n",
    "    [13,10] sur F256, t = 1, t + 1 erreurs, rayon de décodage 3, décodage en 151s\n",
    "    [13,9] sur F256, t = 2, t erreurs, rayon de décodage 3, décodage en 290s\n",
    "    \n",
    "    "
   ]
  },
  {
   "cell_type": "code",
   "execution_count": null,
   "metadata": {},
   "outputs": [],
   "source": []
  }
 ],
 "metadata": {
  "kernelspec": {
   "display_name": "SageMath 9.0",
   "language": "sage",
   "name": "sagemath"
  },
  "language_info": {
   "codemirror_mode": {
    "name": "ipython",
    "version": 3
   },
   "file_extension": ".py",
   "mimetype": "text/x-python",
   "name": "python",
   "nbconvert_exporter": "python",
   "pygments_lexer": "ipython3",
   "version": "3.8.10"
  }
 },
 "nbformat": 4,
 "nbformat_minor": 4
}
