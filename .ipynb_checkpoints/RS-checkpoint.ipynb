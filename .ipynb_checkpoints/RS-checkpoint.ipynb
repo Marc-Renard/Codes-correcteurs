{
 "cells": [
  {
   "cell_type": "code",
   "execution_count": 57,
   "metadata": {},
   "outputs": [],
   "source": [
    "class RS:\n",
    "    def __init__(self,q,n,k, K, g):\n",
    "        self.q = q\n",
    "        self.n = n\n",
    "        self.k = k\n",
    "        self.x = [0 for i in range(n)]\n",
    "        self.d = self.n - self.k + 1\n",
    "        self.t = floor((self.d - 1)/2.0)\n",
    "        self.K = K\n",
    "        self.g = g\n",
    "        self.x = [self.g^i for i in range(n-1)]\n",
    "        self.x.insert(0,0)\n",
    "\n",
    "        \n",
    "    def encode(self,M):\n",
    "        v = vector(self.K,[sum([(self.x[j]^(self.k-i-1))*M[i] for i in range(self.k)]) for j in range(self.n)])\n",
    "        return v\n",
    "        \n",
    "    def distance_min(self):\n",
    "        info_space = VectorSpace(self.K,self.k)\n",
    "        w_min = self.n\n",
    "\n",
    "        for M in info_space:\n",
    "            w_tmp = self.encode(self.K,M).hamming_weight()\n",
    "            if w_tmp > 0 and w_tmp<w_min:\n",
    "                w_min = w_tmp\n",
    "                \n",
    "        return w_min\n",
    "    \n",
    "    def decode_BW(self,U):\n",
    "        M = Matrix(self.K, self.n)\n",
    "        for i in range(self.n):\n",
    "            for j in range(self.t):\n",
    "                M[i,j] = U[i]*(self.x[i])^j\n",
    "            for j in range(self.t, self.n, 1):\n",
    "                M[i,j] = (-(self.x[i]))^(j-self.t)\n",
    "        print(M)\n",
    "        '''\n",
    "        coefs = M.right_kernel().basis_matrix().rows()[0]\n",
    "        R.<X> = PolynomialRing(self.K)\n",
    "        A = 0\n",
    "        B = 0\n",
    "        tmp = 1\n",
    "        for i in range(self.t):\n",
    "            A += coefs[i]*tmp\n",
    "            tmp *= X\n",
    "        tmp = 1\n",
    "        for i in range(self.k + self.t - 1):\n",
    "            B += coefs[self.t + i] * tmp\n",
    "            tmp *= X\n",
    "        r = B//A\n",
    "        coefs = r.list() # https://ask.sagemath.org/question/26907/get-the-coefficients-from-the-polynomial/\n",
    "        while len(coefs)<self.n:\n",
    "            coefs.append(0)\n",
    "        '''\n",
    "        return M#coefs\n",
    "    "
   ]
  },
  {
   "cell_type": "code",
   "execution_count": 58,
   "metadata": {},
   "outputs": [],
   "source": [
    "def canal(x, nb_err, K):\n",
    "    n = len(x)\n",
    "    I = Subsets(n,nb_err).random_element()\n",
    "    y = []\n",
    "    for i in range(n):\n",
    "        y.append(x[i])\n",
    "        if i+1 in I:\n",
    "            err = 0\n",
    "            while err == 0:\n",
    "                err = K.random_element()\n",
    "            y[i] += err\n",
    "    return vector(K,y)\n",
    " "
   ]
  },
  {
   "cell_type": "code",
   "execution_count": 60,
   "metadata": {},
   "outputs": [
    {
     "name": "stdout",
     "output_type": "stream",
     "text": [
      "Message : (g^2 + g + 1, 1, 1, g^2 + 1, g, g^2 + g + 1)\n",
      "Received :  (g^2 + g + 1, 1, 1, 0, g, g^2 + g + 1)\n",
      "[g^2 + g + 1           1           0           0           0           0]\n",
      "[          1           1           1           1           1           1]\n",
      "[          1           1           g         g^2       g + 1     g^2 + g]\n",
      "[          0           1         g^2     g^2 + g     g^2 + 1           g]\n",
      "[          g           1       g + 1     g^2 + 1         g^2 g^2 + g + 1]\n",
      "[g^2 + g + 1           1     g^2 + g           g g^2 + g + 1         g^2]\n",
      "decoded : Vector space of degree 6 and dimension 0 over Finite Field in g of size 2^3\n",
      "Basis matrix:\n",
      "[]\n"
     ]
    }
   ],
   "source": [
    "K.<g> = GF(8)\n",
    "R = RS(8,6,4,K,g)\n",
    "\n",
    "M = vector(K, [R.K.random_element() for i in range(R.k)])\n",
    "m = R.encode(M)\n",
    "print(\"Message :\", m)\n",
    "U = canal(m, R.t, K)\n",
    "print(\"Received : \", U)\n",
    "m1 = R.decode_BW(U)\n",
    "print(\"decoded :\", m1)\n"
   ]
  },
  {
   "cell_type": "code",
   "execution_count": null,
   "metadata": {},
   "outputs": [],
   "source": []
  },
  {
   "cell_type": "code",
   "execution_count": null,
   "metadata": {},
   "outputs": [],
   "source": []
  }
 ],
 "metadata": {
  "kernelspec": {
   "display_name": "SageMath 9.0",
   "language": "sage",
   "name": "sagemath"
  },
  "language_info": {
   "codemirror_mode": {
    "name": "ipython",
    "version": 3
   },
   "file_extension": ".py",
   "mimetype": "text/x-python",
   "name": "python",
   "nbconvert_exporter": "python",
   "pygments_lexer": "ipython3",
   "version": "3.8.10"
  }
 },
 "nbformat": 4,
 "nbformat_minor": 4
}
