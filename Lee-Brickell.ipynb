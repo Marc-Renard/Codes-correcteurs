{
 "cells": [
  {
   "cell_type": "code",
   "execution_count": 25,
   "metadata": {},
   "outputs": [],
   "source": [
    "from time import time\n",
    "from sage.coding.bounds_catalog import *\n",
    "\n",
    "\n",
    "n = 9\n",
    "k = 7\n",
    "q = 8\n",
    "\n",
    "\n",
    "\n",
    "w = 1\n",
    "p = 1\n",
    "\n",
    "\n",
    "def complementaire(I, n):\n",
    "    return set([1..n]).difference(I)\n",
    "\n",
    "def canal(x, nb_err, K):\n",
    "    n = len(x)\n",
    "    I = Subsets(n,nb_err).random_element()\n",
    "    y = []\n",
    "    for i in range(n):\n",
    "        y.append(x[i])\n",
    "        if i+1 in I:\n",
    "            err = 0\n",
    "            while err == 0:\n",
    "                err = K.random_element()\n",
    "            y[i] += err\n",
    "    return vector(K,y)\n",
    "\n",
    "\n",
    "\n",
    "\n",
    "def lee_brickel(H, s, w):\n",
    "    \n",
    "    while True:\n",
    "        I = S.random_element()\n",
    "        J = complementaire(I, n)\n",
    "        Hj = H[[i for i in range(0,n-k)],[j for j in range(0,n) if (j+1) in J ]]\n",
    "        if Hj.determinant() == 0:\n",
    "            continue\n",
    "        sj = vector(K,s)\n",
    "        Hj_inv = Hj.inverse()\n",
    "        sp = Hj_inv * sj\n",
    "        V = VectorSpace(K, k)\n",
    "        for x in V:\n",
    "            if x.hamming_weight() == p:\n",
    "                Hi = H[[i for i in range(0,n-k)],[j for j in range(0,n) if (j+1) in I ]]\n",
    "                y = sp - Hj_inv * Hi * x\n",
    "                if y.hamming_weight() <= w - p:\n",
    "                    e = []\n",
    "                    j = 0\n",
    "                    for i in range(n):\n",
    "                        if i + 1 in J:\n",
    "                            e.append(sp[j])\n",
    "                            j+= 1\n",
    "                        else:\n",
    "                            e.append(0)\n",
    "                    return vector(K,e)\n",
    "                \n",
    "def lee_brickel2(H, s, w):\n",
    "    if s == vector(K, [0 for i in range(n-k)]):\n",
    "        return vector(K, [0 for i in range(n)])\n",
    "    S = Subsets(n,k)\n",
    "    \n",
    "    positions = Subsets(k, p)\n",
    "    Values = []\n",
    "    for lmt in K:\n",
    "        Values.append(lmt)\n",
    "    Values.remove(0)\n",
    "    Index = (IntegerModRing(len(Values)))^p\n",
    "    \n",
    "    while True:\n",
    "        I = S.random_element()\n",
    "        J = complementaire(I, n)\n",
    "        Hj = H[[i for i in range(0,n-k)],[j for j in range(0,n) if (j+1) in J ]]\n",
    "        if Hj.determinant() == 0:\n",
    "            continue\n",
    "        sj = vector(K,s)\n",
    "        Hj_inv = Hj.inverse()\n",
    "        sp = Hj_inv * sj\n",
    "        \n",
    "\n",
    "        \n",
    "        for pos in positions: #emplacement des valeurs non nulles du vecteur x\n",
    "            x = vector(K, [0]*k)\n",
    "            for index in Index: # vecteur de (Z/(|K|-1)Z ), permet de parcourir toutes vecteurs de p dans K sans aucune coordonnée nulle\n",
    "                for a in range(p):\n",
    "                    x[pos[a] - 1] = Values[ index[a] ]\n",
    "                #print(\"x : \",x)\n",
    "                Hi = H[[l for l in range(0,n-k)],[m for m in range(0,n) if (m+1) in I ]]\n",
    "                y = sp - Hj_inv * Hi * x\n",
    "                if y.hamming_weight() <= w - p:\n",
    "                    e = [0]*n\n",
    "                    j1 = 0\n",
    "                    j2 = 0\n",
    "                    for i in range(n):\n",
    "                        if i + 1 in J:\n",
    "                            e[i] = y[j1] #e.append(y[j])\n",
    "                            j1+= 1\n",
    "                        else:\n",
    "                            e[i] = x[j2]\n",
    "                            j2 += 1\n",
    "                    #print(\"I:\",I,\"J:\", J)\n",
    "                    #print(\"Hi\\n\",Hi)\n",
    "                    #print(\"Hj\\n\",Hj)\n",
    "                    #print(Hj_inv)\n",
    "                    return vector(K,e)\n",
    "\n",
    "def complexity(n, k, q, w ):\n",
    "    R = k/n\n",
    "    gama = max(0,w - (1-1/q)*(1-R))\n",
    "    alpha = gama*log(q-1,q) + entropy(w, q) - (1-R)*entropy((w - gama)/(1 - R))\n",
    "    return q^(alpha*n)"
   ]
  },
  {
   "cell_type": "markdown",
   "metadata": {},
   "source": [
    "# Test sur Hamming [9,7,3] sur F8"
   ]
  },
  {
   "cell_type": "code",
   "execution_count": 23,
   "metadata": {},
   "outputs": [
    {
     "name": "stdout",
     "output_type": "stream",
     "text": [
      "[          1           g         g^2       g + 1     g^2 + g     g^2 + 1 g^2 + g + 1           1           0]\n",
      "[          1           1           1           1           1           1           1           0           1]\n",
      "mot de code c : (g + 1, 1, g^2, g, g, g, g^2 + 1, 1, 1)\n",
      "Mot reçu avec une erreur : (g + 1, 1, g^2 + 1, g, g, g, g^2 + 1, 1, 1)\n",
      "Syndrôme obtenu : (g^2, 1)\n",
      "Erreur trouvée : (0, 0, 1, 0, 0, 0, 0, 0, 0)\n",
      "Mot décodé : (g + 1, 1, g^2, g, g, g, g^2 + 1, 1, 1)\n",
      "Mod bien décodé : True\n",
      "time to decode : 0.08715105056762695  seconds\n"
     ]
    }
   ],
   "source": [
    "K.<g> = GF(q)\n",
    "H = Matrix(K,[[1,g,g^2,g+1,g^2+g, g^2+1, g^2+g+1,1,0],[1,1,1,1,1,1,1,0,1]])\n",
    "G = Matrix(K,[[1,0,0,0,0,0,0,1,1],[0,1,0,0,0,0,0,g,1],[0,0,1,0,0,0,0,g^2,1],[0,0,0,1,0,0,0,g+1,1],[0,0,0,0,1,0,0,g^2+g,1], [0,0,0,0,0,1,0,g^2+1,1], [0,0,0,0,0,0,1,g^2+g+1,1]])\n",
    "print(H)\n",
    "M = K^k\n",
    "m = vector(K,M.random_element())\n",
    "c = m*G\n",
    "print(\"mot de code c :\" ,c)\n",
    "u = canal(c, 1, K)\n",
    "print(\"Mot reçu avec une erreur :\", u)\n",
    "s = H*u\n",
    "print(\"Syndrôme obtenu :\",s)\n",
    "t1 = time()\n",
    "e = lee_brickel2(H, s, w)\n",
    "t2 = time()\n",
    "print(\"Erreur trouvée :\", e)\n",
    "cp = u + e\n",
    "print(\"Mot décodé :\",cp)\n",
    "print(\"Mod bien décodé :\", c == cp)\n",
    "print(\"time to decode :\", t2-t1 ,\" seconds\")"
   ]
  },
  {
   "cell_type": "markdown",
   "metadata": {},
   "source": [
    "# Calcul de la complexité asymptotique"
   ]
  },
  {
   "cell_type": "code",
   "execution_count": 33,
   "metadata": {},
   "outputs": [
    {
     "name": "stdout",
     "output_type": "stream",
     "text": [
      "Complexity with n =  2500  ,k =  1250  ,q =  2  ,w =  0.100000000000000  : \n",
      " 2.00373216355136e81\n"
     ]
    },
    {
     "data": {
      "image/png": "[encoded data removed]",
      "text/plain": [
       "Graphics object consisting of 1 graphics primitive"
      ]
     },
     "execution_count": 33,
     "metadata": {},
     "output_type": "execute_result"
    }
   ],
   "source": [
    "n = 2500\n",
    "R = 0.5\n",
    "k = floor(R*n)\n",
    "q = 2\n",
    "w_max = (1-R)*(1-1/q)\n",
    "w = 0.1\n",
    "print(\"Complexity with n = \", n, \" ,k = \", k,\" ,q = \", q,\" ,w = \", w, \" : \\n\", complexity(n,k,q,w))\n",
    "\n",
    "\n",
    "\n",
    "    \n",
    "c = lambda x : q^(n*(max(0,x - w_max)*log(q-1,q) + entropy(x, q) - (1-R)*entropy((x - max(0,x - w_max))/(1 - R),q)))\n",
    "plot(c, (0,w_max), scale = 'semilogy', base = 2, axes_labels = [r'$\\omega$',r'$T_{Lee-Brickell}(\\omega)$'])"
   ]
  },
  {
   "cell_type": "code",
   "execution_count": null,
   "metadata": {},
   "outputs": [],
   "source": []
  }
 ],
 "metadata": {
  "kernelspec": {
   "display_name": "SageMath 9.0",
   "language": "sage",
   "name": "sagemath"
  },
  "language_info": {
   "codemirror_mode": {
    "name": "ipython",
    "version": 3
   },
   "file_extension": ".py",
   "mimetype": "text/x-python",
   "name": "python",
   "nbconvert_exporter": "python",
   "pygments_lexer": "ipython3",
   "version": "3.8.10"
  }
 },
 "nbformat": 4,
 "nbformat_minor": 4
}
